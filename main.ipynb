{
 "cells": [
  {
   "cell_type": "code",
   "execution_count": 1,
   "id": "initial_id",
   "metadata": {
    "collapsed": true,
    "ExecuteTime": {
     "end_time": "2024-01-15T14:04:47.901278300Z",
     "start_time": "2024-01-15T14:03:58.596262400Z"
    }
   },
   "outputs": [],
   "source": [
    "from ReadData import ReadData\n",
    "from Build_Model import BuildModelClassify\n",
    "import tensorflow as tf\n",
    "from PIL import Image\n",
    "import os\n",
    "from IPython.display import display\n",
    "from keras.preprocessing.image import ImageDataGenerator\n",
    "import pandas as pd\n",
    "import numpy as np\n",
    "from sklearn.model_selection import train_test_split\n",
    "from keras.utils import to_categorical\n",
    "import ast"
   ]
  },
  {
   "cell_type": "code",
   "execution_count": 2,
   "outputs": [
    {
     "name": "stdout",
     "output_type": "stream",
     "text": [
      "GPU available: /device:GPU:0\n"
     ]
    }
   ],
   "source": [
    "if tf.test.gpu_device_name():\n",
    "    print('GPU available:', tf.test.gpu_device_name())\n",
    "    \n",
    "else:\n",
    "    print(\"No GPU available. Please make sure you have TensorFlow configured to use GPU.\")"
   ],
   "metadata": {
    "collapsed": false,
    "ExecuteTime": {
     "end_time": "2024-01-15T14:04:53.942034500Z",
     "start_time": "2024-01-15T14:04:53.911109Z"
    }
   },
   "id": "542e9e7c5e5ce5c1"
  },
  {
   "cell_type": "code",
   "execution_count": 3,
   "outputs": [],
   "source": [
    "gpus = tf.config.experimental.list_physical_devices('GPU')\n",
    "if gpus:\n",
    "    for gpu in gpus:\n",
    "        tf.config.experimental.set_memory_growth(gpu, True)"
   ],
   "metadata": {
    "collapsed": false,
    "ExecuteTime": {
     "end_time": "2024-01-15T14:04:53.989056900Z",
     "start_time": "2024-01-15T14:04:53.942034500Z"
    }
   },
   "id": "c75135319bf07bd8"
  },
  {
   "cell_type": "code",
   "execution_count": 4,
   "outputs": [],
   "source": [
    "# Đọc file CSV vào DataFrame\n",
    "file_path = 'D:/Cuong/private/work/Python/Project/tensorflow/HackAthon/output.csv'\n",
    "\n",
    "# Chunksize - số lượng dòng đọc mỗi lần\n",
    "chunksize = 300\n",
    "\n",
    "# Khởi tạo DataFrame trống cho kết quả\n",
    "result_data = pd.DataFrame()\n",
    "count = 0\n",
    "# Đọc file CSV theo từng phần nhỏ (chunk)\n",
    "for chunk in pd.read_csv(file_path, chunksize=chunksize):\n",
    "    if not count == 0:\n",
    "        # Lọc ra 500 hàng có giá trị masked = 0 và 500 hàng có giá trị masked = 1\n",
    "        filtered_data_1 = chunk[chunk['emotion'] == 'Happiness'].head(215 - len(result_data[result_data['emotion'] == 'Happiness']))\n",
    "        filtered_data_2 = chunk[chunk['emotion'] == 'Neutral'].head(215 - len(result_data[result_data['emotion'] == 'Neutral']))\n",
    "        filtered_data_3 = chunk[chunk['emotion'] == 'Sadness'].head(215 - len(result_data[result_data['emotion'] == 'Sadness']))\n",
    "        filtered_data_4 = chunk[chunk['emotion'] == 'Anger'].head(215 - len(result_data[result_data['emotion'] == 'Anger']))\n",
    "        filtered_data_5 = chunk[chunk['emotion'] == 'Surprise'].head(215 - len(result_data[result_data['emotion'] == 'Surprise']))\n",
    "        filtered_data_6 = chunk[chunk['emotion'] == 'Disgust'].head(215 - len(result_data[result_data['emotion'] == 'Disgust']))\n",
    "        filtered_data_7 = chunk[chunk['emotion'] == 'Fear'].head(215 - len(result_data[result_data['emotion'] == 'Fear']))\n",
    "    else:\n",
    "        filtered_data_1 = chunk[chunk['emotion'] == 'Happiness'].head(215)\n",
    "        filtered_data_2 = chunk[chunk['emotion'] == 'Neutral'].head(215)\n",
    "        filtered_data_3 = chunk[chunk['emotion'] == 'Sadness'].head(215)\n",
    "        filtered_data_4 = chunk[chunk['emotion'] == 'Anger'].head(215)\n",
    "        filtered_data_5 = chunk[chunk['emotion'] == 'Surprise'].head(215)\n",
    "        filtered_data_6 = chunk[chunk['emotion'] == 'Disgust'].head(215)\n",
    "        filtered_data_7 = chunk[chunk['emotion'] == 'Fear'].head(215)\n",
    "    # Kết hợp lại thành DataFrame mới\n",
    "    result_data = pd.concat([result_data, filtered_data_1,filtered_data_2, filtered_data_3, filtered_data_4, filtered_data_5, filtered_data_6, filtered_data_7])\n",
    "    count = 1\n",
    "\n",
    "    # Kiểm tra xem đã đạt được 500 hàng cho mỗi loại masked chưa\n",
    "    if (len(result_data[result_data['emotion'] == 'Happiness']) >= 215 and\n",
    "            len(result_data[result_data['emotion'] == 'Neutral']) >= 215 and \n",
    "            len(result_data[result_data['emotion'] == 'Sadness']) >= 215 and \n",
    "            len(result_data[result_data['emotion'] == 'Anger']) >= 215 and \n",
    "            len(result_data[result_data['emotion'] == 'Surprise']) >= 215 and \n",
    "            len(result_data[result_data['emotion'] == 'Disgust']) >= 215 and \n",
    "            len(result_data[result_data['emotion'] == 'Fear']) >= 215):\n",
    "        break"
   ],
   "metadata": {
    "collapsed": false,
    "ExecuteTime": {
     "end_time": "2024-01-15T14:15:23.183296700Z",
     "start_time": "2024-01-15T14:04:53.975387900Z"
    }
   },
   "id": "fdaebaf570e9d5d1"
  },
  {
   "cell_type": "code",
   "execution_count": 5,
   "outputs": [],
   "source": [
    "chunk = 0\n",
    "filtered_data_1 = 0\n",
    "filtered_data_2 = 0\n",
    "filtered_data_3 = 0\n",
    "filtered_data_4 = 0\n",
    "filtered_data_5 = 0\n",
    "filtered_data_6 = 0\n",
    "filtered_data_7 = 0"
   ],
   "metadata": {
    "collapsed": false,
    "ExecuteTime": {
     "end_time": "2024-01-15T14:15:23.356637500Z",
     "start_time": "2024-01-15T14:15:23.293620200Z"
    }
   },
   "id": "e4c9e77607967614"
  },
  {
   "cell_type": "code",
   "execution_count": 6,
   "outputs": [
    {
     "data": {
      "text/plain": "emotion\nHappiness    215\nNeutral      215\nSadness      215\nAnger        215\nSurprise     215\nDisgust      132\nFear         114\nName: count, dtype: int64"
     },
     "execution_count": 6,
     "metadata": {},
     "output_type": "execute_result"
    }
   ],
   "source": [
    "result_data['emotion'].value_counts()"
   ],
   "metadata": {
    "collapsed": false,
    "ExecuteTime": {
     "end_time": "2024-01-15T14:15:23.623567900Z",
     "start_time": "2024-01-15T14:15:23.466902900Z"
    }
   },
   "id": "e9754f37f8e25788"
  },
  {
   "cell_type": "code",
   "execution_count": 7,
   "outputs": [],
   "source": [
    "def tranformX(X):\n",
    "    data_arrays = []\n",
    "    for value in X:\n",
    "        data_array = np.array(ast.literal_eval(value))\n",
    "        data_arrays.append(data_array)\n",
    "    return np.array(data_arrays)"
   ],
   "metadata": {
    "collapsed": false,
    "ExecuteTime": {
     "end_time": "2024-01-15T14:15:23.675031100Z",
     "start_time": "2024-01-15T14:15:23.623567900Z"
    }
   },
   "id": "cd9c4217ea94332c"
  },
  {
   "cell_type": "code",
   "execution_count": 8,
   "outputs": [],
   "source": [
    "build_model = BuildModelClassify()\n",
    "model = build_model.build()"
   ],
   "metadata": {
    "collapsed": false,
    "ExecuteTime": {
     "end_time": "2024-01-15T14:15:28.888070800Z",
     "start_time": "2024-01-15T14:15:23.675031100Z"
    }
   },
   "id": "289df1dc4556e450"
  },
  {
   "cell_type": "code",
   "execution_count": 9,
   "outputs": [],
   "source": [
    "def tranformDF(df):\n",
    "    tasks = ['age', 'race', 'masked', 'skintone', 'emotion', 'gender']\n",
    "    for task in tasks:\n",
    "        if task == 'age':\n",
    "            df['age'] = df['age'].astype(str).map({'20-30s': 0,\n",
    "                                               '40-50s': 1,\n",
    "                                               'Kid': 2,\n",
    "                                               'Senior': 3,\n",
    "                                               'Teenager': 4,\n",
    "                                               'Baby': 5})\n",
    "        elif task == 'masked':\n",
    "            # Lấy nhãn 'masked' và chuyển đổi sang chuỗi\n",
    "            df['masked'] = df['masked'].astype(str).map({'unmasked': 0, 'masked': 1})\n",
    "    \n",
    "        elif task == 'skintone':\n",
    "            df['skintone'] = df['skintone'].astype(str).map({'mid-light': 0,\n",
    "                                                    'light': 1,\n",
    "                                                    'mid-dark': 2,\n",
    "                                                    'dark': 3})\n",
    "    \n",
    "        elif task == 'emotion':\n",
    "            df['emotion'] = df['emotion'].astype(str).map({'Happiness': 0,\n",
    "                                                   'Neutral': 1,\n",
    "                                                   'Sadness': 2,\n",
    "                                                   'Anger': 3,\n",
    "                                                   'Surprise': 4,\n",
    "                                                   'Disgust': 5,\n",
    "                                                   'Fear': 6})\n",
    "    \n",
    "        elif task == 'race':\n",
    "            df['race'] = df['race'].astype(str).map({'Mongoloid': 0,\n",
    "                                                'Caucasian': 1,\n",
    "                                                'Negroid': 2})\n",
    "    \n",
    "        elif task == 'gender':\n",
    "            df['gender'] = df['gender'].astype(str).map({'Female': 0,\n",
    "                                                  'Male': 1})"
   ],
   "metadata": {
    "collapsed": false,
    "ExecuteTime": {
     "end_time": "2024-01-15T14:15:28.921316700Z",
     "start_time": "2024-01-15T14:15:28.903571600Z"
    }
   },
   "id": "8ec2d7300135325c"
  },
  {
   "cell_type": "code",
   "execution_count": 10,
   "outputs": [],
   "source": [
    "tranformDF(result_data)"
   ],
   "metadata": {
    "collapsed": false,
    "ExecuteTime": {
     "end_time": "2024-01-15T14:15:29.092188200Z",
     "start_time": "2024-01-15T14:15:28.982478600Z"
    }
   },
   "id": "39dc5f2422684bbe"
  },
  {
   "cell_type": "code",
   "execution_count": 11,
   "outputs": [
    {
     "data": {
      "text/plain": "                                               file_name  height  width  \\\n2      D:/Cuong/HackAthon/mnt/md0/projects/sami-hacka...    2000   1333   \n4      D:/Cuong/HackAthon/mnt/md0/projects/sami-hacka...    2000   1333   \n6      D:/Cuong/HackAthon/mnt/md0/projects/sami-hacka...    2000   1333   \n7      D:/Cuong/HackAthon/mnt/md0/projects/sami-hacka...    2000   1333   \n8      D:/Cuong/HackAthon/mnt/md0/projects/sami-hacka...    1333   2000   \n...                                                  ...     ...    ...   \n14614  D:/Cuong/HackAthon/mnt/md0/projects/sami-hacka...    1024   1024   \n14640  D:/Cuong/HackAthon/mnt/md0/projects/sami-hacka...    1024   1024   \n14803  D:/Cuong/HackAthon/mnt/md0/projects/sami-hacka...    1024   1024   \n14819  D:/Cuong/HackAthon/mnt/md0/projects/sami-hacka...    1024   1024   \n15223  D:/Cuong/HackAthon/mnt/md0/projects/sami-hacka...    1024   1024   \n\n                                                    bbox  age  race  masked  \\\n2      [419.93871061403877, 269.1250391680045, 377.19...    0     0       0   \n4      [549.169724453414, 92.52040334013152, 306.8821...    0     1       0   \n6      [640.2165901410499, 619.7806050101991, 359.991...    0     0       0   \n7      [468.0460743801641, 174.78512396694236, 326.43...    1     1       0   \n8      [1277.1383338280361, 140.98490082153265, 248.8...    0     0       0   \n...                                                  ...  ...   ...     ...   \n14614  [253.22926829268306, 161.10731707317052, 566.5...    0     1       0   \n14640  [187.87793427230048, 153.4366197183098, 609.74...    5     1       0   \n14803  [178.7042253521122, 167.5727699530506, 558.286...    1     1       0   \n14819  [173.49295774647752, 153.07981220657268, 585.7...    0     0       0   \n15223  [274.5697511858945, 244.99503441544854, 512.39...    0     1       0   \n\n       skintone  emotion  gender         var1        var2        var3  \\\n2             1        0       0   419.938711  269.125039  377.190690   \n4             0        0       0   549.169724   92.520403  306.882136   \n6             1        0       0   640.216590  619.780605  359.991091   \n7             0        0       0   468.046074  174.785124  326.432645   \n8             1        0       0  1277.138334  140.984901  248.888240   \n...         ...      ...     ...          ...         ...         ...   \n14614         1        5       0   253.229268  161.107317  566.512195   \n14640         1        6       0   187.877934  153.436620  609.746479   \n14803         2        5       1   178.704225  167.572770  558.286385   \n14819         1        5       0   173.492958  153.079812  585.727700   \n15223         0        5       0   274.569751  244.995034  512.393679   \n\n             var4                                       array_images  \n2      491.115671  [[[0.35555555555555557, 0.23555555555555555, 0...  \n4      437.365818  [[[0.06222222222222222, 0.06222222222222222, 0...  \n6      440.243879  [[[0.37777777777777777, 0.3244444444444444, 0....  \n7      417.776860  [[[0.4088888888888889, 0.2577777777777778, 0.1...  \n8      351.588007  [[[1.1333333333333333, 1.1333333333333333, 1.1...  \n...           ...                                                ...  \n14614  788.858537  [[[0.68, 0.47555555555555556, 0.28444444444444...  \n14640  715.774648  [[[0.4311111111111111, 0.30666666666666664, 0....  \n14803  795.483568  [[[0.7422222222222222, 0.7244444444444444, 0.7...  \n14819  771.793427  [[[0.1688888888888889, 0.13777777777777778, 0....  \n15223  716.403610  [[[0.17333333333333334, 0.2, 0.257777777777777...  \n\n[1321 rows x 15 columns]",
      "text/html": "<div>\n<style scoped>\n    .dataframe tbody tr th:only-of-type {\n        vertical-align: middle;\n    }\n\n    .dataframe tbody tr th {\n        vertical-align: top;\n    }\n\n    .dataframe thead th {\n        text-align: right;\n    }\n</style>\n<table border=\"1\" class=\"dataframe\">\n  <thead>\n    <tr style=\"text-align: right;\">\n      <th></th>\n      <th>file_name</th>\n      <th>height</th>\n      <th>width</th>\n      <th>bbox</th>\n      <th>age</th>\n      <th>race</th>\n      <th>masked</th>\n      <th>skintone</th>\n      <th>emotion</th>\n      <th>gender</th>\n      <th>var1</th>\n      <th>var2</th>\n      <th>var3</th>\n      <th>var4</th>\n      <th>array_images</th>\n    </tr>\n  </thead>\n  <tbody>\n    <tr>\n      <th>2</th>\n      <td>D:/Cuong/HackAthon/mnt/md0/projects/sami-hacka...</td>\n      <td>2000</td>\n      <td>1333</td>\n      <td>[419.93871061403877, 269.1250391680045, 377.19...</td>\n      <td>0</td>\n      <td>0</td>\n      <td>0</td>\n      <td>1</td>\n      <td>0</td>\n      <td>0</td>\n      <td>419.938711</td>\n      <td>269.125039</td>\n      <td>377.190690</td>\n      <td>491.115671</td>\n      <td>[[[0.35555555555555557, 0.23555555555555555, 0...</td>\n    </tr>\n    <tr>\n      <th>4</th>\n      <td>D:/Cuong/HackAthon/mnt/md0/projects/sami-hacka...</td>\n      <td>2000</td>\n      <td>1333</td>\n      <td>[549.169724453414, 92.52040334013152, 306.8821...</td>\n      <td>0</td>\n      <td>1</td>\n      <td>0</td>\n      <td>0</td>\n      <td>0</td>\n      <td>0</td>\n      <td>549.169724</td>\n      <td>92.520403</td>\n      <td>306.882136</td>\n      <td>437.365818</td>\n      <td>[[[0.06222222222222222, 0.06222222222222222, 0...</td>\n    </tr>\n    <tr>\n      <th>6</th>\n      <td>D:/Cuong/HackAthon/mnt/md0/projects/sami-hacka...</td>\n      <td>2000</td>\n      <td>1333</td>\n      <td>[640.2165901410499, 619.7806050101991, 359.991...</td>\n      <td>0</td>\n      <td>0</td>\n      <td>0</td>\n      <td>1</td>\n      <td>0</td>\n      <td>0</td>\n      <td>640.216590</td>\n      <td>619.780605</td>\n      <td>359.991091</td>\n      <td>440.243879</td>\n      <td>[[[0.37777777777777777, 0.3244444444444444, 0....</td>\n    </tr>\n    <tr>\n      <th>7</th>\n      <td>D:/Cuong/HackAthon/mnt/md0/projects/sami-hacka...</td>\n      <td>2000</td>\n      <td>1333</td>\n      <td>[468.0460743801641, 174.78512396694236, 326.43...</td>\n      <td>1</td>\n      <td>1</td>\n      <td>0</td>\n      <td>0</td>\n      <td>0</td>\n      <td>0</td>\n      <td>468.046074</td>\n      <td>174.785124</td>\n      <td>326.432645</td>\n      <td>417.776860</td>\n      <td>[[[0.4088888888888889, 0.2577777777777778, 0.1...</td>\n    </tr>\n    <tr>\n      <th>8</th>\n      <td>D:/Cuong/HackAthon/mnt/md0/projects/sami-hacka...</td>\n      <td>1333</td>\n      <td>2000</td>\n      <td>[1277.1383338280361, 140.98490082153265, 248.8...</td>\n      <td>0</td>\n      <td>0</td>\n      <td>0</td>\n      <td>1</td>\n      <td>0</td>\n      <td>0</td>\n      <td>1277.138334</td>\n      <td>140.984901</td>\n      <td>248.888240</td>\n      <td>351.588007</td>\n      <td>[[[1.1333333333333333, 1.1333333333333333, 1.1...</td>\n    </tr>\n    <tr>\n      <th>...</th>\n      <td>...</td>\n      <td>...</td>\n      <td>...</td>\n      <td>...</td>\n      <td>...</td>\n      <td>...</td>\n      <td>...</td>\n      <td>...</td>\n      <td>...</td>\n      <td>...</td>\n      <td>...</td>\n      <td>...</td>\n      <td>...</td>\n      <td>...</td>\n      <td>...</td>\n    </tr>\n    <tr>\n      <th>14614</th>\n      <td>D:/Cuong/HackAthon/mnt/md0/projects/sami-hacka...</td>\n      <td>1024</td>\n      <td>1024</td>\n      <td>[253.22926829268306, 161.10731707317052, 566.5...</td>\n      <td>0</td>\n      <td>1</td>\n      <td>0</td>\n      <td>1</td>\n      <td>5</td>\n      <td>0</td>\n      <td>253.229268</td>\n      <td>161.107317</td>\n      <td>566.512195</td>\n      <td>788.858537</td>\n      <td>[[[0.68, 0.47555555555555556, 0.28444444444444...</td>\n    </tr>\n    <tr>\n      <th>14640</th>\n      <td>D:/Cuong/HackAthon/mnt/md0/projects/sami-hacka...</td>\n      <td>1024</td>\n      <td>1024</td>\n      <td>[187.87793427230048, 153.4366197183098, 609.74...</td>\n      <td>5</td>\n      <td>1</td>\n      <td>0</td>\n      <td>1</td>\n      <td>6</td>\n      <td>0</td>\n      <td>187.877934</td>\n      <td>153.436620</td>\n      <td>609.746479</td>\n      <td>715.774648</td>\n      <td>[[[0.4311111111111111, 0.30666666666666664, 0....</td>\n    </tr>\n    <tr>\n      <th>14803</th>\n      <td>D:/Cuong/HackAthon/mnt/md0/projects/sami-hacka...</td>\n      <td>1024</td>\n      <td>1024</td>\n      <td>[178.7042253521122, 167.5727699530506, 558.286...</td>\n      <td>1</td>\n      <td>1</td>\n      <td>0</td>\n      <td>2</td>\n      <td>5</td>\n      <td>1</td>\n      <td>178.704225</td>\n      <td>167.572770</td>\n      <td>558.286385</td>\n      <td>795.483568</td>\n      <td>[[[0.7422222222222222, 0.7244444444444444, 0.7...</td>\n    </tr>\n    <tr>\n      <th>14819</th>\n      <td>D:/Cuong/HackAthon/mnt/md0/projects/sami-hacka...</td>\n      <td>1024</td>\n      <td>1024</td>\n      <td>[173.49295774647752, 153.07981220657268, 585.7...</td>\n      <td>0</td>\n      <td>0</td>\n      <td>0</td>\n      <td>1</td>\n      <td>5</td>\n      <td>0</td>\n      <td>173.492958</td>\n      <td>153.079812</td>\n      <td>585.727700</td>\n      <td>771.793427</td>\n      <td>[[[0.1688888888888889, 0.13777777777777778, 0....</td>\n    </tr>\n    <tr>\n      <th>15223</th>\n      <td>D:/Cuong/HackAthon/mnt/md0/projects/sami-hacka...</td>\n      <td>1024</td>\n      <td>1024</td>\n      <td>[274.5697511858945, 244.99503441544854, 512.39...</td>\n      <td>0</td>\n      <td>1</td>\n      <td>0</td>\n      <td>0</td>\n      <td>5</td>\n      <td>0</td>\n      <td>274.569751</td>\n      <td>244.995034</td>\n      <td>512.393679</td>\n      <td>716.403610</td>\n      <td>[[[0.17333333333333334, 0.2, 0.257777777777777...</td>\n    </tr>\n  </tbody>\n</table>\n<p>1321 rows × 15 columns</p>\n</div>"
     },
     "execution_count": 11,
     "metadata": {},
     "output_type": "execute_result"
    }
   ],
   "source": [
    "result_data"
   ],
   "metadata": {
    "collapsed": false,
    "ExecuteTime": {
     "end_time": "2024-01-15T14:15:29.375194700Z",
     "start_time": "2024-01-15T14:15:29.107604400Z"
    }
   },
   "id": "4b8a5814032881ec"
  },
  {
   "cell_type": "code",
   "execution_count": 12,
   "outputs": [],
   "source": [
    "from sklearn.utils import resample\n",
    "# Down sample emotion \n",
    "happiness = result_data[result_data['emotion'] == 0]\n",
    "neutral = result_data[result_data['emotion'] == 1]\n",
    "sadness = result_data[result_data['emotion'] == 2]\n",
    "anger = result_data[result_data['emotion'] == 3]\n",
    "surprise = result_data[result_data['emotion'] == 4]\n",
    "disgust = result_data[result_data['emotion'] == 5]\n",
    "fear = result_data[result_data['emotion'] == 6]\n",
    "\n",
    "news_disgust = resample(disgust, replace=True, n_samples=125,random_state=10)\n",
    "news_fear = resample(fear, replace=True, n_samples=125,random_state=10)\n",
    "result_data = pd.concat([happiness, neutral,sadness,anger,surprise,news_disgust,news_fear])"
   ],
   "metadata": {
    "collapsed": false,
    "ExecuteTime": {
     "end_time": "2024-01-15T14:15:29.581798400Z",
     "start_time": "2024-01-15T14:15:29.375194700Z"
    }
   },
   "id": "9f491b35a73e0b34"
  },
  {
   "cell_type": "code",
   "execution_count": 13,
   "outputs": [],
   "source": [
    "happiness, neutral, sadness,anger,surprise,disgust,fear,news_disgust,news_fear = 0,0,0,0,0,0,0,0,0"
   ],
   "metadata": {
    "collapsed": false,
    "ExecuteTime": {
     "end_time": "2024-01-15T14:15:29.581798400Z",
     "start_time": "2024-01-15T14:15:29.548155200Z"
    }
   },
   "id": "b9e252fe6defcbc8"
  },
  {
   "cell_type": "code",
   "execution_count": 14,
   "outputs": [],
   "source": [
    "result_data = result_data.drop(['file_name', 'height', 'width', 'bbox','var1','var2','var3','var4'], axis=1)"
   ],
   "metadata": {
    "collapsed": false,
    "ExecuteTime": {
     "end_time": "2024-01-15T14:15:29.581798400Z",
     "start_time": "2024-01-15T14:15:29.563780200Z"
    }
   },
   "id": "47d88dafcd0083d6"
  },
  {
   "cell_type": "code",
   "execution_count": 15,
   "outputs": [],
   "source": [
    "train, test = train_test_split(result_data, test_size=0.1, shuffle=True)"
   ],
   "metadata": {
    "collapsed": false,
    "ExecuteTime": {
     "end_time": "2024-01-15T14:15:29.595306900Z",
     "start_time": "2024-01-15T14:15:29.581798400Z"
    }
   },
   "id": "54f736d75833ccc7"
  },
  {
   "cell_type": "code",
   "execution_count": 16,
   "outputs": [],
   "source": [
    "result_data = 0"
   ],
   "metadata": {
    "collapsed": false,
    "ExecuteTime": {
     "end_time": "2024-01-15T14:15:29.642780300Z",
     "start_time": "2024-01-15T14:15:29.595306900Z"
    }
   },
   "id": "e770c52cd3146bbd"
  },
  {
   "cell_type": "code",
   "execution_count": 17,
   "outputs": [
    {
     "name": "stdout",
     "output_type": "stream",
     "text": [
      "Epoch 1/30\n",
      "38/38 [==============================] - 48s 429ms/step - loss: 4.7850 - Age_loss: 0.8393 - Race_loss: 0.5505 - Masked_loss: 0.1060 - Skintone_loss: 0.7312 - Emotion_loss: 2.1171 - Gender_loss: 0.4410 - Age_accuracy: 0.7374 - Race_accuracy: 0.7617 - Masked_accuracy: 0.9773 - Skintone_accuracy: 0.6997 - Emotion_accuracy: 0.3364 - Gender_accuracy: 0.8037 - val_loss: 3.8886 - val_Age_loss: 0.8003 - val_Race_loss: 0.3737 - val_Masked_loss: 0.1350 - val_Skintone_loss: 0.5969 - val_Emotion_loss: 1.6718 - val_Gender_loss: 0.3109 - val_Age_accuracy: 0.7218 - val_Race_accuracy: 0.8421 - val_Masked_accuracy: 0.9699 - val_Skintone_accuracy: 0.7444 - val_Emotion_accuracy: 0.4135 - val_Gender_accuracy: 0.8496\n",
      "Epoch 2/30\n",
      "38/38 [==============================] - 10s 262ms/step - loss: 4.0118 - Age_loss: 0.7773 - Race_loss: 0.4451 - Masked_loss: 0.0718 - Skintone_loss: 0.6163 - Emotion_loss: 1.7249 - Gender_loss: 0.3763 - Age_accuracy: 0.7542 - Race_accuracy: 0.8054 - Masked_accuracy: 0.9765 - Skintone_accuracy: 0.7458 - Emotion_accuracy: 0.3859 - Gender_accuracy: 0.8230 - val_loss: 3.7862 - val_Age_loss: 0.7645 - val_Race_loss: 0.3939 - val_Masked_loss: 0.1073 - val_Skintone_loss: 0.5752 - val_Emotion_loss: 1.6420 - val_Gender_loss: 0.3032 - val_Age_accuracy: 0.7218 - val_Race_accuracy: 0.7970 - val_Masked_accuracy: 0.9774 - val_Skintone_accuracy: 0.7293 - val_Emotion_accuracy: 0.4361 - val_Gender_accuracy: 0.8722\n",
      "Epoch 3/30\n",
      "38/38 [==============================] - 10s 264ms/step - loss: 3.8458 - Age_loss: 0.7161 - Race_loss: 0.4464 - Masked_loss: 0.0566 - Skintone_loss: 0.6038 - Emotion_loss: 1.6367 - Gender_loss: 0.3862 - Age_accuracy: 0.7634 - Race_accuracy: 0.7928 - Masked_accuracy: 0.9815 - Skintone_accuracy: 0.7416 - Emotion_accuracy: 0.3935 - Gender_accuracy: 0.8230 - val_loss: 3.7840 - val_Age_loss: 0.7180 - val_Race_loss: 0.3689 - val_Masked_loss: 0.1280 - val_Skintone_loss: 0.5603 - val_Emotion_loss: 1.6622 - val_Gender_loss: 0.3466 - val_Age_accuracy: 0.7444 - val_Race_accuracy: 0.8271 - val_Masked_accuracy: 0.9774 - val_Skintone_accuracy: 0.7594 - val_Emotion_accuracy: 0.4211 - val_Gender_accuracy: 0.8346\n",
      "Epoch 4/30\n",
      "38/38 [==============================] - 10s 264ms/step - loss: 3.7645 - Age_loss: 0.7253 - Race_loss: 0.4592 - Masked_loss: 0.0498 - Skintone_loss: 0.5991 - Emotion_loss: 1.5722 - Gender_loss: 0.3590 - Age_accuracy: 0.7592 - Race_accuracy: 0.7995 - Masked_accuracy: 0.9857 - Skintone_accuracy: 0.7299 - Emotion_accuracy: 0.4119 - Gender_accuracy: 0.8406 - val_loss: 3.6352 - val_Age_loss: 0.7594 - val_Race_loss: 0.3899 - val_Masked_loss: 0.1220 - val_Skintone_loss: 0.5310 - val_Emotion_loss: 1.5332 - val_Gender_loss: 0.2996 - val_Age_accuracy: 0.7143 - val_Race_accuracy: 0.8195 - val_Masked_accuracy: 0.9774 - val_Skintone_accuracy: 0.7895 - val_Emotion_accuracy: 0.4436 - val_Gender_accuracy: 0.8421\n",
      "Epoch 5/30\n",
      "38/38 [==============================] - 10s 265ms/step - loss: 3.6805 - Age_loss: 0.7015 - Race_loss: 0.4343 - Masked_loss: 0.0361 - Skintone_loss: 0.5693 - Emotion_loss: 1.5712 - Gender_loss: 0.3681 - Age_accuracy: 0.7785 - Race_accuracy: 0.8104 - Masked_accuracy: 0.9883 - Skintone_accuracy: 0.7601 - Emotion_accuracy: 0.4128 - Gender_accuracy: 0.8280 - val_loss: 3.6819 - val_Age_loss: 0.7356 - val_Race_loss: 0.3948 - val_Masked_loss: 0.1193 - val_Skintone_loss: 0.5325 - val_Emotion_loss: 1.5484 - val_Gender_loss: 0.3514 - val_Age_accuracy: 0.7368 - val_Race_accuracy: 0.8271 - val_Masked_accuracy: 0.9774 - val_Skintone_accuracy: 0.7744 - val_Emotion_accuracy: 0.4361 - val_Gender_accuracy: 0.8045\n",
      "Epoch 6/30\n",
      "38/38 [==============================] - 10s 265ms/step - loss: 3.5741 - Age_loss: 0.6974 - Race_loss: 0.4160 - Masked_loss: 0.0421 - Skintone_loss: 0.5600 - Emotion_loss: 1.5040 - Gender_loss: 0.3546 - Age_accuracy: 0.7777 - Race_accuracy: 0.8247 - Masked_accuracy: 0.9841 - Skintone_accuracy: 0.7475 - Emotion_accuracy: 0.4237 - Gender_accuracy: 0.8263 - val_loss: 3.7261 - val_Age_loss: 0.7634 - val_Race_loss: 0.4000 - val_Masked_loss: 0.1269 - val_Skintone_loss: 0.5304 - val_Emotion_loss: 1.5760 - val_Gender_loss: 0.3295 - val_Age_accuracy: 0.7068 - val_Race_accuracy: 0.8195 - val_Masked_accuracy: 0.9774 - val_Skintone_accuracy: 0.7594 - val_Emotion_accuracy: 0.3835 - val_Gender_accuracy: 0.8496\n",
      "Epoch 7/30\n",
      "38/38 [==============================] - 10s 267ms/step - loss: 3.5279 - Age_loss: 0.6715 - Race_loss: 0.4176 - Masked_loss: 0.0551 - Skintone_loss: 0.5510 - Emotion_loss: 1.4974 - Gender_loss: 0.3351 - Age_accuracy: 0.7794 - Race_accuracy: 0.8163 - Masked_accuracy: 0.9748 - Skintone_accuracy: 0.7617 - Emotion_accuracy: 0.4388 - Gender_accuracy: 0.8389 - val_loss: 3.6826 - val_Age_loss: 0.7772 - val_Race_loss: 0.4002 - val_Masked_loss: 0.1177 - val_Skintone_loss: 0.5089 - val_Emotion_loss: 1.5779 - val_Gender_loss: 0.3007 - val_Age_accuracy: 0.7218 - val_Race_accuracy: 0.8195 - val_Masked_accuracy: 0.9774 - val_Skintone_accuracy: 0.7594 - val_Emotion_accuracy: 0.4361 - val_Gender_accuracy: 0.8872\n",
      "Epoch 8/30\n",
      "38/38 [==============================] - 10s 267ms/step - loss: 3.4832 - Age_loss: 0.7081 - Race_loss: 0.3978 - Masked_loss: 0.0424 - Skintone_loss: 0.5586 - Emotion_loss: 1.4527 - Gender_loss: 0.3236 - Age_accuracy: 0.7701 - Race_accuracy: 0.8305 - Masked_accuracy: 0.9832 - Skintone_accuracy: 0.7601 - Emotion_accuracy: 0.4430 - Gender_accuracy: 0.8515 - val_loss: 3.6694 - val_Age_loss: 0.6949 - val_Race_loss: 0.4676 - val_Masked_loss: 0.1299 - val_Skintone_loss: 0.5203 - val_Emotion_loss: 1.5522 - val_Gender_loss: 0.3045 - val_Age_accuracy: 0.7444 - val_Race_accuracy: 0.7744 - val_Masked_accuracy: 0.9774 - val_Skintone_accuracy: 0.7519 - val_Emotion_accuracy: 0.4361 - val_Gender_accuracy: 0.8722\n",
      "Epoch 9/30\n",
      "38/38 [==============================] - 10s 267ms/step - loss: 3.4724 - Age_loss: 0.6596 - Race_loss: 0.4029 - Masked_loss: 0.0552 - Skintone_loss: 0.5429 - Emotion_loss: 1.4719 - Gender_loss: 0.3399 - Age_accuracy: 0.7752 - Race_accuracy: 0.8196 - Masked_accuracy: 0.9832 - Skintone_accuracy: 0.7685 - Emotion_accuracy: 0.4421 - Gender_accuracy: 0.8473 - val_loss: 3.5892 - val_Age_loss: 0.7185 - val_Race_loss: 0.3928 - val_Masked_loss: 0.1150 - val_Skintone_loss: 0.5198 - val_Emotion_loss: 1.5573 - val_Gender_loss: 0.2858 - val_Age_accuracy: 0.7218 - val_Race_accuracy: 0.8045 - val_Masked_accuracy: 0.9774 - val_Skintone_accuracy: 0.7594 - val_Emotion_accuracy: 0.4211 - val_Gender_accuracy: 0.8722\n",
      "Epoch 10/30\n",
      "38/38 [==============================] - 10s 271ms/step - loss: 3.3987 - Age_loss: 0.6310 - Race_loss: 0.4033 - Masked_loss: 0.0440 - Skintone_loss: 0.5503 - Emotion_loss: 1.4386 - Gender_loss: 0.3314 - Age_accuracy: 0.7903 - Race_accuracy: 0.8221 - Masked_accuracy: 0.9841 - Skintone_accuracy: 0.7685 - Emotion_accuracy: 0.4530 - Gender_accuracy: 0.8523 - val_loss: 3.6899 - val_Age_loss: 0.7755 - val_Race_loss: 0.4029 - val_Masked_loss: 0.1311 - val_Skintone_loss: 0.5219 - val_Emotion_loss: 1.5889 - val_Gender_loss: 0.2695 - val_Age_accuracy: 0.7143 - val_Race_accuracy: 0.8195 - val_Masked_accuracy: 0.9774 - val_Skintone_accuracy: 0.7669 - val_Emotion_accuracy: 0.4211 - val_Gender_accuracy: 0.8571\n",
      "Epoch 11/30\n",
      "38/38 [==============================] - 11s 278ms/step - loss: 3.3371 - Age_loss: 0.6264 - Race_loss: 0.3663 - Masked_loss: 0.0393 - Skintone_loss: 0.5390 - Emotion_loss: 1.4395 - Gender_loss: 0.3267 - Age_accuracy: 0.7794 - Race_accuracy: 0.8339 - Masked_accuracy: 0.9891 - Skintone_accuracy: 0.7844 - Emotion_accuracy: 0.4430 - Gender_accuracy: 0.8381 - val_loss: 3.8404 - val_Age_loss: 0.8460 - val_Race_loss: 0.4340 - val_Masked_loss: 0.1226 - val_Skintone_loss: 0.5597 - val_Emotion_loss: 1.6000 - val_Gender_loss: 0.2781 - val_Age_accuracy: 0.7293 - val_Race_accuracy: 0.8195 - val_Masked_accuracy: 0.9774 - val_Skintone_accuracy: 0.7594 - val_Emotion_accuracy: 0.4286 - val_Gender_accuracy: 0.8647\n",
      "Epoch 12/30\n",
      "38/38 [==============================] - 11s 278ms/step - loss: 3.3657 - Age_loss: 0.6347 - Race_loss: 0.3818 - Masked_loss: 0.0554 - Skintone_loss: 0.5490 - Emotion_loss: 1.4187 - Gender_loss: 0.3261 - Age_accuracy: 0.7894 - Race_accuracy: 0.8280 - Masked_accuracy: 0.9790 - Skintone_accuracy: 0.7550 - Emotion_accuracy: 0.4371 - Gender_accuracy: 0.8532 - val_loss: 3.7128 - val_Age_loss: 0.7759 - val_Race_loss: 0.4296 - val_Masked_loss: 0.1184 - val_Skintone_loss: 0.5485 - val_Emotion_loss: 1.5463 - val_Gender_loss: 0.2941 - val_Age_accuracy: 0.7143 - val_Race_accuracy: 0.8120 - val_Masked_accuracy: 0.9774 - val_Skintone_accuracy: 0.7368 - val_Emotion_accuracy: 0.4286 - val_Gender_accuracy: 0.8722\n",
      "Epoch 13/30\n",
      "38/38 [==============================] - 10s 275ms/step - loss: 3.3343 - Age_loss: 0.6313 - Race_loss: 0.3638 - Masked_loss: 0.0551 - Skintone_loss: 0.5398 - Emotion_loss: 1.4326 - Gender_loss: 0.3117 - Age_accuracy: 0.7886 - Race_accuracy: 0.8322 - Masked_accuracy: 0.9765 - Skintone_accuracy: 0.7626 - Emotion_accuracy: 0.4430 - Gender_accuracy: 0.8565 - val_loss: 3.6720 - val_Age_loss: 0.8067 - val_Race_loss: 0.4031 - val_Masked_loss: 0.1487 - val_Skintone_loss: 0.5253 - val_Emotion_loss: 1.5157 - val_Gender_loss: 0.2726 - val_Age_accuracy: 0.7143 - val_Race_accuracy: 0.8346 - val_Masked_accuracy: 0.9699 - val_Skintone_accuracy: 0.8045 - val_Emotion_accuracy: 0.4361 - val_Gender_accuracy: 0.9023\n",
      "Epoch 14/30\n",
      "38/38 [==============================] - 10s 274ms/step - loss: 3.2524 - Age_loss: 0.5973 - Race_loss: 0.3891 - Masked_loss: 0.0397 - Skintone_loss: 0.5084 - Emotion_loss: 1.4018 - Gender_loss: 0.3161 - Age_accuracy: 0.8029 - Race_accuracy: 0.8314 - Masked_accuracy: 0.9883 - Skintone_accuracy: 0.7810 - Emotion_accuracy: 0.4664 - Gender_accuracy: 0.8423 - val_loss: 3.6340 - val_Age_loss: 0.7735 - val_Race_loss: 0.3823 - val_Masked_loss: 0.1197 - val_Skintone_loss: 0.5252 - val_Emotion_loss: 1.5402 - val_Gender_loss: 0.2930 - val_Age_accuracy: 0.7218 - val_Race_accuracy: 0.8045 - val_Masked_accuracy: 0.9774 - val_Skintone_accuracy: 0.7669 - val_Emotion_accuracy: 0.4586 - val_Gender_accuracy: 0.8647\n",
      "Epoch 15/30\n",
      "38/38 [==============================] - 10s 272ms/step - loss: 3.2667 - Age_loss: 0.6106 - Race_loss: 0.3683 - Masked_loss: 0.0435 - Skintone_loss: 0.5313 - Emotion_loss: 1.4005 - Gender_loss: 0.3124 - Age_accuracy: 0.7928 - Race_accuracy: 0.8364 - Masked_accuracy: 0.9883 - Skintone_accuracy: 0.7727 - Emotion_accuracy: 0.4765 - Gender_accuracy: 0.8624 - val_loss: 3.6069 - val_Age_loss: 0.6844 - val_Race_loss: 0.3955 - val_Masked_loss: 0.1535 - val_Skintone_loss: 0.5151 - val_Emotion_loss: 1.5412 - val_Gender_loss: 0.3172 - val_Age_accuracy: 0.7218 - val_Race_accuracy: 0.8346 - val_Masked_accuracy: 0.9774 - val_Skintone_accuracy: 0.7444 - val_Emotion_accuracy: 0.4586 - val_Gender_accuracy: 0.8647\n",
      "Epoch 16/30\n",
      "38/38 [==============================] - 10s 273ms/step - loss: 3.2754 - Age_loss: 0.6056 - Race_loss: 0.3525 - Masked_loss: 0.0422 - Skintone_loss: 0.5045 - Emotion_loss: 1.4528 - Gender_loss: 0.3178 - Age_accuracy: 0.7903 - Race_accuracy: 0.8431 - Masked_accuracy: 0.9849 - Skintone_accuracy: 0.7852 - Emotion_accuracy: 0.4404 - Gender_accuracy: 0.8482 - val_loss: 3.5653 - val_Age_loss: 0.7698 - val_Race_loss: 0.3723 - val_Masked_loss: 0.1107 - val_Skintone_loss: 0.5120 - val_Emotion_loss: 1.5262 - val_Gender_loss: 0.2744 - val_Age_accuracy: 0.7293 - val_Race_accuracy: 0.8346 - val_Masked_accuracy: 0.9774 - val_Skintone_accuracy: 0.7669 - val_Emotion_accuracy: 0.4586 - val_Gender_accuracy: 0.9023\n",
      "Epoch 17/30\n",
      "38/38 [==============================] - 10s 273ms/step - loss: 3.1675 - Age_loss: 0.5711 - Race_loss: 0.3273 - Masked_loss: 0.0416 - Skintone_loss: 0.5146 - Emotion_loss: 1.4070 - Gender_loss: 0.3059 - Age_accuracy: 0.8096 - Race_accuracy: 0.8691 - Masked_accuracy: 0.9841 - Skintone_accuracy: 0.7785 - Emotion_accuracy: 0.4631 - Gender_accuracy: 0.8574 - val_loss: 3.5956 - val_Age_loss: 0.7541 - val_Race_loss: 0.3796 - val_Masked_loss: 0.1336 - val_Skintone_loss: 0.5209 - val_Emotion_loss: 1.5199 - val_Gender_loss: 0.2875 - val_Age_accuracy: 0.6992 - val_Race_accuracy: 0.8496 - val_Masked_accuracy: 0.9774 - val_Skintone_accuracy: 0.7669 - val_Emotion_accuracy: 0.4586 - val_Gender_accuracy: 0.8797\n",
      "Epoch 18/30\n",
      "38/38 [==============================] - 10s 273ms/step - loss: 3.1342 - Age_loss: 0.5970 - Race_loss: 0.3383 - Masked_loss: 0.0295 - Skintone_loss: 0.4931 - Emotion_loss: 1.3691 - Gender_loss: 0.3071 - Age_accuracy: 0.7919 - Race_accuracy: 0.8423 - Masked_accuracy: 0.9908 - Skintone_accuracy: 0.7844 - Emotion_accuracy: 0.4933 - Gender_accuracy: 0.8641 - val_loss: 3.5462 - val_Age_loss: 0.6941 - val_Race_loss: 0.3656 - val_Masked_loss: 0.1387 - val_Skintone_loss: 0.5235 - val_Emotion_loss: 1.5351 - val_Gender_loss: 0.2891 - val_Age_accuracy: 0.7594 - val_Race_accuracy: 0.8346 - val_Masked_accuracy: 0.9774 - val_Skintone_accuracy: 0.7744 - val_Emotion_accuracy: 0.4511 - val_Gender_accuracy: 0.8496\n",
      "Epoch 19/30\n",
      "38/38 [==============================] - 10s 273ms/step - loss: 3.0348 - Age_loss: 0.5744 - Race_loss: 0.3196 - Masked_loss: 0.0340 - Skintone_loss: 0.4911 - Emotion_loss: 1.3340 - Gender_loss: 0.2817 - Age_accuracy: 0.8054 - Race_accuracy: 0.8557 - Masked_accuracy: 0.9857 - Skintone_accuracy: 0.7836 - Emotion_accuracy: 0.5050 - Gender_accuracy: 0.8733 - val_loss: 3.6113 - val_Age_loss: 0.7699 - val_Race_loss: 0.3603 - val_Masked_loss: 0.2000 - val_Skintone_loss: 0.4998 - val_Emotion_loss: 1.5132 - val_Gender_loss: 0.2681 - val_Age_accuracy: 0.7444 - val_Race_accuracy: 0.8421 - val_Masked_accuracy: 0.9774 - val_Skintone_accuracy: 0.7895 - val_Emotion_accuracy: 0.4662 - val_Gender_accuracy: 0.8647\n",
      "Epoch 20/30\n",
      "38/38 [==============================] - 10s 272ms/step - loss: 3.0468 - Age_loss: 0.5555 - Race_loss: 0.3050 - Masked_loss: 0.0426 - Skintone_loss: 0.5040 - Emotion_loss: 1.3598 - Gender_loss: 0.2799 - Age_accuracy: 0.8037 - Race_accuracy: 0.8733 - Masked_accuracy: 0.9866 - Skintone_accuracy: 0.7836 - Emotion_accuracy: 0.4874 - Gender_accuracy: 0.8708 - val_loss: 3.6158 - val_Age_loss: 0.7579 - val_Race_loss: 0.3820 - val_Masked_loss: 0.1456 - val_Skintone_loss: 0.5283 - val_Emotion_loss: 1.5373 - val_Gender_loss: 0.2647 - val_Age_accuracy: 0.7444 - val_Race_accuracy: 0.8195 - val_Masked_accuracy: 0.9774 - val_Skintone_accuracy: 0.7368 - val_Emotion_accuracy: 0.4511 - val_Gender_accuracy: 0.8797\n",
      "Epoch 21/30\n",
      "38/38 [==============================] - 10s 273ms/step - loss: 2.9879 - Age_loss: 0.5649 - Race_loss: 0.3340 - Masked_loss: 0.0356 - Skintone_loss: 0.4842 - Emotion_loss: 1.3028 - Gender_loss: 0.2663 - Age_accuracy: 0.8062 - Race_accuracy: 0.8540 - Masked_accuracy: 0.9841 - Skintone_accuracy: 0.7894 - Emotion_accuracy: 0.5243 - Gender_accuracy: 0.8817 - val_loss: 3.6783 - val_Age_loss: 0.8472 - val_Race_loss: 0.3615 - val_Masked_loss: 0.1585 - val_Skintone_loss: 0.5244 - val_Emotion_loss: 1.4995 - val_Gender_loss: 0.2871 - val_Age_accuracy: 0.6917 - val_Race_accuracy: 0.8571 - val_Masked_accuracy: 0.9774 - val_Skintone_accuracy: 0.7669 - val_Emotion_accuracy: 0.4662 - val_Gender_accuracy: 0.8872\n",
      "Epoch 22/30\n",
      "38/38 [==============================] - 10s 275ms/step - loss: 3.0064 - Age_loss: 0.5761 - Race_loss: 0.3238 - Masked_loss: 0.0328 - Skintone_loss: 0.5006 - Emotion_loss: 1.2897 - Gender_loss: 0.2833 - Age_accuracy: 0.8020 - Race_accuracy: 0.8591 - Masked_accuracy: 0.9874 - Skintone_accuracy: 0.7802 - Emotion_accuracy: 0.5109 - Gender_accuracy: 0.8733 - val_loss: 3.6481 - val_Age_loss: 0.7842 - val_Race_loss: 0.3981 - val_Masked_loss: 0.1715 - val_Skintone_loss: 0.5018 - val_Emotion_loss: 1.5070 - val_Gender_loss: 0.2856 - val_Age_accuracy: 0.7368 - val_Race_accuracy: 0.8120 - val_Masked_accuracy: 0.9774 - val_Skintone_accuracy: 0.7744 - val_Emotion_accuracy: 0.4586 - val_Gender_accuracy: 0.8797\n",
      "Epoch 23/30\n",
      "38/38 [==============================] - 10s 276ms/step - loss: 2.9881 - Age_loss: 0.5490 - Race_loss: 0.3198 - Masked_loss: 0.0413 - Skintone_loss: 0.4667 - Emotion_loss: 1.3246 - Gender_loss: 0.2867 - Age_accuracy: 0.8121 - Race_accuracy: 0.8616 - Masked_accuracy: 0.9815 - Skintone_accuracy: 0.7945 - Emotion_accuracy: 0.5042 - Gender_accuracy: 0.8649 - val_loss: 3.6061 - val_Age_loss: 0.7974 - val_Race_loss: 0.3829 - val_Masked_loss: 0.1667 - val_Skintone_loss: 0.4971 - val_Emotion_loss: 1.4888 - val_Gender_loss: 0.2731 - val_Age_accuracy: 0.7218 - val_Race_accuracy: 0.8346 - val_Masked_accuracy: 0.9774 - val_Skintone_accuracy: 0.7744 - val_Emotion_accuracy: 0.4586 - val_Gender_accuracy: 0.8797\n",
      "Epoch 24/30\n",
      "38/38 [==============================] - 10s 275ms/step - loss: 3.0415 - Age_loss: 0.5717 - Race_loss: 0.3429 - Masked_loss: 0.0355 - Skintone_loss: 0.4894 - Emotion_loss: 1.3070 - Gender_loss: 0.2950 - Age_accuracy: 0.8045 - Race_accuracy: 0.8523 - Masked_accuracy: 0.9857 - Skintone_accuracy: 0.7903 - Emotion_accuracy: 0.4983 - Gender_accuracy: 0.8574 - val_loss: 3.5734 - val_Age_loss: 0.7660 - val_Race_loss: 0.3889 - val_Masked_loss: 0.1800 - val_Skintone_loss: 0.4883 - val_Emotion_loss: 1.4579 - val_Gender_loss: 0.2923 - val_Age_accuracy: 0.7368 - val_Race_accuracy: 0.8346 - val_Masked_accuracy: 0.9774 - val_Skintone_accuracy: 0.7669 - val_Emotion_accuracy: 0.4662 - val_Gender_accuracy: 0.8722\n",
      "Epoch 25/30\n",
      "38/38 [==============================] - 10s 274ms/step - loss: 2.9142 - Age_loss: 0.5345 - Race_loss: 0.3168 - Masked_loss: 0.0266 - Skintone_loss: 0.4710 - Emotion_loss: 1.2996 - Gender_loss: 0.2658 - Age_accuracy: 0.8079 - Race_accuracy: 0.8633 - Masked_accuracy: 0.9899 - Skintone_accuracy: 0.7861 - Emotion_accuracy: 0.5050 - Gender_accuracy: 0.8851 - val_loss: 3.5788 - val_Age_loss: 0.7331 - val_Race_loss: 0.3626 - val_Masked_loss: 0.1911 - val_Skintone_loss: 0.5066 - val_Emotion_loss: 1.4914 - val_Gender_loss: 0.2940 - val_Age_accuracy: 0.7143 - val_Race_accuracy: 0.8797 - val_Masked_accuracy: 0.9774 - val_Skintone_accuracy: 0.7669 - val_Emotion_accuracy: 0.4586 - val_Gender_accuracy: 0.8722\n",
      "Epoch 26/30\n",
      "38/38 [==============================] - 10s 272ms/step - loss: 2.9103 - Age_loss: 0.5394 - Race_loss: 0.3183 - Masked_loss: 0.0436 - Skintone_loss: 0.4719 - Emotion_loss: 1.2745 - Gender_loss: 0.2626 - Age_accuracy: 0.8087 - Race_accuracy: 0.8549 - Masked_accuracy: 0.9849 - Skintone_accuracy: 0.7953 - Emotion_accuracy: 0.4924 - Gender_accuracy: 0.8851 - val_loss: 3.6533 - val_Age_loss: 0.7462 - val_Race_loss: 0.3764 - val_Masked_loss: 0.1858 - val_Skintone_loss: 0.5062 - val_Emotion_loss: 1.5417 - val_Gender_loss: 0.2970 - val_Age_accuracy: 0.7368 - val_Race_accuracy: 0.8421 - val_Masked_accuracy: 0.9774 - val_Skintone_accuracy: 0.7519 - val_Emotion_accuracy: 0.4436 - val_Gender_accuracy: 0.8722\n",
      "Epoch 27/30\n",
      "38/38 [==============================] - 10s 276ms/step - loss: 2.9460 - Age_loss: 0.5544 - Race_loss: 0.3032 - Masked_loss: 0.0356 - Skintone_loss: 0.4757 - Emotion_loss: 1.2976 - Gender_loss: 0.2796 - Age_accuracy: 0.8112 - Race_accuracy: 0.8683 - Masked_accuracy: 0.9883 - Skintone_accuracy: 0.7928 - Emotion_accuracy: 0.5101 - Gender_accuracy: 0.8666 - val_loss: 3.6606 - val_Age_loss: 0.7736 - val_Race_loss: 0.4097 - val_Masked_loss: 0.1835 - val_Skintone_loss: 0.5087 - val_Emotion_loss: 1.5132 - val_Gender_loss: 0.2718 - val_Age_accuracy: 0.7218 - val_Race_accuracy: 0.8271 - val_Masked_accuracy: 0.9774 - val_Skintone_accuracy: 0.7594 - val_Emotion_accuracy: 0.4586 - val_Gender_accuracy: 0.8947\n",
      "Epoch 28/30\n",
      "38/38 [==============================] - 10s 276ms/step - loss: 2.9007 - Age_loss: 0.5649 - Race_loss: 0.3036 - Masked_loss: 0.0325 - Skintone_loss: 0.4679 - Emotion_loss: 1.2620 - Gender_loss: 0.2698 - Age_accuracy: 0.8003 - Race_accuracy: 0.8758 - Masked_accuracy: 0.9891 - Skintone_accuracy: 0.8012 - Emotion_accuracy: 0.5252 - Gender_accuracy: 0.8767 - val_loss: 3.5422 - val_Age_loss: 0.7413 - val_Race_loss: 0.3777 - val_Masked_loss: 0.1892 - val_Skintone_loss: 0.5021 - val_Emotion_loss: 1.4674 - val_Gender_loss: 0.2646 - val_Age_accuracy: 0.7444 - val_Race_accuracy: 0.8271 - val_Masked_accuracy: 0.9774 - val_Skintone_accuracy: 0.7820 - val_Emotion_accuracy: 0.4511 - val_Gender_accuracy: 0.8797\n",
      "Epoch 29/30\n",
      "38/38 [==============================] - 10s 274ms/step - loss: 2.9234 - Age_loss: 0.5584 - Race_loss: 0.3114 - Masked_loss: 0.0366 - Skintone_loss: 0.4663 - Emotion_loss: 1.2732 - Gender_loss: 0.2775 - Age_accuracy: 0.8029 - Race_accuracy: 0.8565 - Masked_accuracy: 0.9866 - Skintone_accuracy: 0.7987 - Emotion_accuracy: 0.5017 - Gender_accuracy: 0.8666 - val_loss: 3.6071 - val_Age_loss: 0.7737 - val_Race_loss: 0.3874 - val_Masked_loss: 0.1363 - val_Skintone_loss: 0.5208 - val_Emotion_loss: 1.5033 - val_Gender_loss: 0.2857 - val_Age_accuracy: 0.7368 - val_Race_accuracy: 0.8421 - val_Masked_accuracy: 0.9774 - val_Skintone_accuracy: 0.7744 - val_Emotion_accuracy: 0.4887 - val_Gender_accuracy: 0.8797\n",
      "Epoch 30/30\n",
      "38/38 [==============================] - 10s 274ms/step - loss: 2.8323 - Age_loss: 0.5347 - Race_loss: 0.2925 - Masked_loss: 0.0362 - Skintone_loss: 0.4566 - Emotion_loss: 1.2477 - Gender_loss: 0.2646 - Age_accuracy: 0.8054 - Race_accuracy: 0.8658 - Masked_accuracy: 0.9891 - Skintone_accuracy: 0.7953 - Emotion_accuracy: 0.5151 - Gender_accuracy: 0.8750 - val_loss: 3.4573 - val_Age_loss: 0.7172 - val_Race_loss: 0.3584 - val_Masked_loss: 0.1469 - val_Skintone_loss: 0.4949 - val_Emotion_loss: 1.4552 - val_Gender_loss: 0.2847 - val_Age_accuracy: 0.7444 - val_Race_accuracy: 0.8421 - val_Masked_accuracy: 0.9774 - val_Skintone_accuracy: 0.7594 - val_Emotion_accuracy: 0.4436 - val_Gender_accuracy: 0.8647\n"
     ]
    },
    {
     "data": {
      "text/plain": "<keras.callbacks.History at 0x2630877f130>"
     },
     "execution_count": 17,
     "metadata": {},
     "output_type": "execute_result"
    }
   ],
   "source": [
    "X_train, X_test = train['array_images'], test['array_images']\n",
    "# Reformat X_train to numpy array (224,224,3)\n",
    "X_train = tranformX(X_train)\n",
    "X_test = tranformX(X_test)\n",
    "\n",
    "# One hot labels\n",
    "label_age = to_categorical(np.array(train['age']), 6)\n",
    "label_race = to_categorical(np.array(train['race']), 3)\n",
    "label_masked = to_categorical(np.array(train['masked']), 2)\n",
    "label_skintone = to_categorical(np.array(train['skintone']), 4)\n",
    "label_emotion = to_categorical(np.array(train['emotion']), 7)\n",
    "label_gender = to_categorical(np.array(train['gender']), 2)\n",
    "\n",
    "label_age_test = to_categorical(np.array(test['age']), 6)\n",
    "label_race_test = to_categorical(np.array(test['race']), 3)\n",
    "label_masked_test = to_categorical(np.array(test['masked']), 2)\n",
    "label_skintone_test = to_categorical(np.array(test['skintone']), 4)\n",
    "label_emotion_test = to_categorical(np.array(test['emotion']), 7)\n",
    "label_gender_test = to_categorical(np.array(test['gender']), 2)\n",
    "\n",
    "model.load_weights('train1/FUN.h5')\n",
    "\n",
    "# Only train age task\n",
    "for layer in model.layers:\n",
    "    if layer.name == 'Emotion1' or layer.name == 'Emotion' :\n",
    "        layer.trainable = True\n",
    "    else :\n",
    "        layer.trainable = False\n",
    "\n",
    "\n",
    "# Train \n",
    "model.fit(\n",
    "    X_train,\n",
    "    {\n",
    "        'Age': label_age,\n",
    "        'Race': label_race,\n",
    "        'Masked': label_masked,\n",
    "        'Skintone': label_skintone,\n",
    "        'Emotion': label_emotion,\n",
    "        'Gender': label_gender\n",
    "    },\n",
    "    epochs=30,\n",
    "    validation_data=(X_test, \n",
    "                     {\n",
    "                        'Age': label_age_test,\n",
    "                        'Race': label_race_test,\n",
    "                        'Masked': label_masked_test,\n",
    "                        'Skintone': label_skintone_test,\n",
    "                        'Emotion': label_emotion_test,\n",
    "                        'Gender': label_gender_test\n",
    "                     }),\n",
    "    \n",
    ")"
   ],
   "metadata": {
    "collapsed": false,
    "ExecuteTime": {
     "end_time": "2024-01-15T14:39:44.618081Z",
     "start_time": "2024-01-15T14:15:31.270378700Z"
    }
   },
   "id": "4132893127d8bdd8"
  },
  {
   "cell_type": "code",
   "execution_count": 18,
   "outputs": [],
   "source": [
    "model.save_weights('train1/FUN.h5')"
   ],
   "metadata": {
    "collapsed": false,
    "ExecuteTime": {
     "end_time": "2024-01-15T14:48:54.402760500Z",
     "start_time": "2024-01-15T14:48:53.296125300Z"
    }
   },
   "id": "7d43c9c1877641d5"
  },
  {
   "cell_type": "code",
   "execution_count": 18,
   "outputs": [],
   "source": [
    "X_train, X_test = 0,0"
   ],
   "metadata": {
    "collapsed": false,
    "ExecuteTime": {
     "end_time": "2024-01-15T07:50:40.929244200Z",
     "start_time": "2024-01-15T07:50:40.913585900Z"
    }
   },
   "id": "bc949ffdd6ba089c"
  },
  {
   "cell_type": "code",
   "execution_count": null,
   "outputs": [],
   "source": [],
   "metadata": {
    "collapsed": false
   },
   "id": "fd8607434b4ea248"
  }
 ],
 "metadata": {
  "kernelspec": {
   "display_name": "Python 3",
   "language": "python",
   "name": "python3"
  },
  "language_info": {
   "codemirror_mode": {
    "name": "ipython",
    "version": 2
   },
   "file_extension": ".py",
   "mimetype": "text/x-python",
   "name": "python",
   "nbconvert_exporter": "python",
   "pygments_lexer": "ipython2",
   "version": "2.7.6"
  }
 },
 "nbformat": 4,
 "nbformat_minor": 5
}
